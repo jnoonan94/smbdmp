{
 "cells": [
  {
   "cell_type": "markdown",
   "id": "f1e71900",
   "metadata": {},
   "source": [
    "# 🌌 Interactive Parallax Tutorial for Star Trackers\n",
    "\n",
    "Explore how parallax changes with planetary location and star distance using sliders.\n",
    "\n",
    "**Equation:**  \n",
    "\\[ \\theta = \\frac{D}{d} \\]  \n",
    "- D = observer baseline (AU)  \n",
    "- d = distance to star (AU)  \n",
    "- θ = parallax angle (radians, converted to arcseconds)"
   ]
  },
  {
   "cell_type": "code",
   "execution_count": 2,
   "id": "17715994",
   "metadata": {},
   "outputs": [
    {
     "data": {
      "application/vnd.jupyter.widget-view+json": {
       "model_id": "4fbf23c2aeb4412d845d9b9a0c1657fa",
       "version_major": 2,
       "version_minor": 0
      },
      "text/plain": [
       "VBox(children=(FloatSlider(value=0.01, continuous_update=False, description='Baseline (AU)', max=40.0, min=0.0…"
      ]
     },
     "metadata": {},
     "output_type": "display_data"
    },
    {
     "data": {
      "application/vnd.jupyter.widget-view+json": {
       "model_id": "f0066b1325804ac38c12a2d49ede25f4",
       "version_major": 2,
       "version_minor": 0
      },
      "text/plain": [
       "Output()"
      ]
     },
     "metadata": {},
     "output_type": "display_data"
    }
   ],
   "source": [
    "import numpy as np\n",
    "import ipywidgets as widgets\n",
    "import matplotlib.pyplot as plt\n",
    "from IPython.display import display, clear_output\n",
    "\n",
    "AU_PER_PC = 206265  # 1 parsec in AU\n",
    "\n",
    "def compute_parallax(baseline_au, star_distance_pc):\n",
    "    star_distance_au = star_distance_pc * AU_PER_PC\n",
    "    theta_rad = baseline_au / star_distance_au\n",
    "    theta_arcsec = np.degrees(theta_rad) * 3600\n",
    "    return theta_arcsec\n",
    "\n",
    "baseline_slider = widgets.FloatSlider(value=0, min=0.01, max=40, step=0.1,\n",
    "                                     description='Baseline (AU)', continuous_update=False)\n",
    "distance_slider = widgets.FloatLogSlider(value=50, base=10, min=-3, max=3,\n",
    "                                        description='Star Dist (pc)', continuous_update=False)\n",
    "\n",
    "output = widgets.Output()\n",
    "\n",
    "def update_plot(change=None):\n",
    "    baseline = baseline_slider.value\n",
    "    star_distance = distance_slider.value\n",
    "    parallax = compute_parallax(baseline, star_distance)\n",
    "    \n",
    "    with output:\n",
    "        clear_output(wait=True)\n",
    "        print(f\"Parallax: {parallax:.4f} arcseconds\\n\")\n",
    "        \n",
    "        plt.figure(figsize=(5, 1))\n",
    "        plt.barh([\"Parallax\"], [parallax], color='skyblue')\n",
    "        plt.xlabel(\"Arcseconds\")\n",
    "        plt.title(f\"Parallax @ {baseline:.2f} AU for {star_distance:.2f} pc\")\n",
    "        plt.xlim(0, 10)\n",
    "        plt.grid(True, axis='x', linestyle='--', alpha=0.7)\n",
    "        plt.show()\n",
    "\n",
    "baseline_slider.observe(update_plot, names='value')\n",
    "distance_slider.observe(update_plot, names='value')\n",
    "\n",
    "display(widgets.VBox([baseline_slider, distance_slider]))\n",
    "display(output)\n",
    "update_plot()"
   ]
  },
  {
   "cell_type": "code",
   "execution_count": null,
   "id": "60214d19-3254-4a08-a7e4-b6e93a3fc57e",
   "metadata": {},
   "outputs": [],
   "source": []
  }
 ],
 "metadata": {
  "kernelspec": {
   "display_name": "Python [conda env:base] *",
   "language": "python",
   "name": "conda-base-py"
  },
  "language_info": {
   "codemirror_mode": {
    "name": "ipython",
    "version": 3
   },
   "file_extension": ".py",
   "mimetype": "text/x-python",
   "name": "python",
   "nbconvert_exporter": "python",
   "pygments_lexer": "ipython3",
   "version": "3.12.7"
  }
 },
 "nbformat": 4,
 "nbformat_minor": 5
}
