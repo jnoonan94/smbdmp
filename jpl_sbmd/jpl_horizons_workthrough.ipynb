{
 "cells": [
  {
   "cell_type": "code",
   "execution_count": 1,
   "id": "9b476b71-86e3-4a00-9002-f8c9d79c160d",
   "metadata": {},
   "outputs": [
    {
     "data": {
      "text/html": [
       "<div><i>Table length=25</i>\n",
       "<table id=\"table2691213357616\" class=\"table-striped table-bordered table-condensed\">\n",
       "<thead><tr><th>datetime_str</th><th>RA</th><th>DEC</th><th>delta</th><th>V</th></tr></thead>\n",
       "<thead><tr><th>---</th><th>deg</th><th>deg</th><th>AU</th><th>mag</th></tr></thead>\n",
       "<thead><tr><th>str17</th><th>float64</th><th>float64</th><th>float64</th><th>float64</th></tr></thead>\n",
       "<tr><td>2025-Jul-01 00:00</td><td>223.61919</td><td>-21.14641</td><td>1.33310241431498</td><td>21.465</td></tr>\n",
       "<tr><td>2025-Jul-01 01:00</td><td>223.64322</td><td>-21.15502</td><td>1.33315235815243</td><td>21.465</td></tr>\n",
       "<tr><td>2025-Jul-01 02:00</td><td>223.66725</td><td>-21.16362</td><td>1.33320224694537</td><td>21.465</td></tr>\n",
       "<tr><td>2025-Jul-01 03:00</td><td>223.69128</td><td>-21.17222</td><td>1.33325208068917</td><td>21.465</td></tr>\n",
       "<tr><td>2025-Jul-01 04:00</td><td>223.71531</td><td>-21.18082</td><td>1.33330185937922</td><td>21.465</td></tr>\n",
       "<tr><td>2025-Jul-01 05:00</td><td>223.73934</td><td>-21.18941</td><td>1.33335158301087</td><td>21.466</td></tr>\n",
       "<tr><td>2025-Jul-01 06:00</td><td>223.76337</td><td>-21.19799</td><td>1.33340125157955</td><td>21.466</td></tr>\n",
       "<tr><td>2025-Jul-01 07:00</td><td>223.78741</td><td>-21.20658</td><td>1.33345086508063</td><td>21.466</td></tr>\n",
       "<tr><td>2025-Jul-01 08:00</td><td>223.81144</td><td>-21.21516</td><td>1.33350042350952</td><td>21.466</td></tr>\n",
       "<tr><td>...</td><td>...</td><td>...</td><td>...</td><td>...</td></tr>\n",
       "<tr><td>2025-Jul-01 16:00</td><td>224.00376</td><td>-21.28364</td><td>1.33389490779256</td><td>21.467</td></tr>\n",
       "<tr><td>2025-Jul-01 17:00</td><td>224.0278</td><td>-21.29219</td><td>1.33394397036602</td><td>21.468</td></tr>\n",
       "<tr><td>2025-Jul-01 18:00</td><td>224.05185</td><td>-21.30073</td><td>1.33399297782169</td><td>21.468</td></tr>\n",
       "<tr><td>2025-Jul-01 19:00</td><td>224.0759</td><td>-21.30926</td><td>1.33404193015506</td><td>21.468</td></tr>\n",
       "<tr><td>2025-Jul-01 20:00</td><td>224.09994</td><td>-21.31779</td><td>1.33409082736159</td><td>21.468</td></tr>\n",
       "<tr><td>2025-Jul-01 21:00</td><td>224.12399</td><td>-21.32632</td><td>1.33413966943678</td><td>21.468</td></tr>\n",
       "<tr><td>2025-Jul-01 22:00</td><td>224.14804</td><td>-21.33484</td><td>1.33418845637612</td><td>21.468</td></tr>\n",
       "<tr><td>2025-Jul-01 23:00</td><td>224.17209</td><td>-21.34336</td><td>1.33423718817513</td><td>21.469</td></tr>\n",
       "<tr><td>2025-Jul-02 00:00</td><td>224.19614</td><td>-21.35187</td><td>1.3342858648293</td><td>21.469</td></tr>\n",
       "</table></div>"
      ],
      "text/plain": [
       "<Table length=25>\n",
       "   datetime_str       RA       DEC         delta          V   \n",
       "       ---           deg       deg           AU          mag  \n",
       "      str17        float64   float64      float64      float64\n",
       "----------------- --------- --------- ---------------- -------\n",
       "2025-Jul-01 00:00 223.61919 -21.14641 1.33310241431498  21.465\n",
       "2025-Jul-01 01:00 223.64322 -21.15502 1.33315235815243  21.465\n",
       "2025-Jul-01 02:00 223.66725 -21.16362 1.33320224694537  21.465\n",
       "2025-Jul-01 03:00 223.69128 -21.17222 1.33325208068917  21.465\n",
       "2025-Jul-01 04:00 223.71531 -21.18082 1.33330185937922  21.465\n",
       "2025-Jul-01 05:00 223.73934 -21.18941 1.33335158301087  21.466\n",
       "2025-Jul-01 06:00 223.76337 -21.19799 1.33340125157955  21.466\n",
       "2025-Jul-01 07:00 223.78741 -21.20658 1.33345086508063  21.466\n",
       "2025-Jul-01 08:00 223.81144 -21.21516 1.33350042350952  21.466\n",
       "              ...       ...       ...              ...     ...\n",
       "2025-Jul-01 16:00 224.00376 -21.28364 1.33389490779256  21.467\n",
       "2025-Jul-01 17:00  224.0278 -21.29219 1.33394397036602  21.468\n",
       "2025-Jul-01 18:00 224.05185 -21.30073 1.33399297782169  21.468\n",
       "2025-Jul-01 19:00  224.0759 -21.30926 1.33404193015506  21.468\n",
       "2025-Jul-01 20:00 224.09994 -21.31779 1.33409082736159  21.468\n",
       "2025-Jul-01 21:00 224.12399 -21.32632 1.33413966943678  21.468\n",
       "2025-Jul-01 22:00 224.14804 -21.33484 1.33418845637612  21.468\n",
       "2025-Jul-01 23:00 224.17209 -21.34336 1.33423718817513  21.469\n",
       "2025-Jul-02 00:00 224.19614 -21.35187  1.3342858648293  21.469"
      ]
     },
     "execution_count": 1,
     "metadata": {},
     "output_type": "execute_result"
    }
   ],
   "source": [
    "from astroquery.jplhorizons import Horizons\n",
    "\n",
    "# Example: Get ephemeris data for asteroid Bennu\n",
    "obj = Horizons(id='101955', location='500@10', epochs={'start':'2025-07-01', 'stop':'2025-07-02', 'step':'1h'})\n",
    "eph = obj.ephemerides()\n",
    "vec = obj.vectors()\n",
    "elem = obj.elements()\n",
    "eph[['datetime_str', 'RA', 'DEC', 'delta', 'V']]"
   ]
  },
  {
   "cell_type": "code",
   "execution_count": 2,
   "id": "2b6e0000-66fc-4538-b29d-3552bfa5acf2",
   "metadata": {},
   "outputs": [
    {
     "data": {
      "text/html": [
       "<div><i>Table length=10</i>\n",
       "<table id=\"table2691287368720\" class=\"table-striped table-bordered table-condensed\">\n",
       "<thead><tr><th>datetime_str</th><th>RA</th><th>DEC</th><th>delta</th><th>V</th></tr></thead>\n",
       "<thead><tr><th>---</th><th>deg</th><th>deg</th><th>AU</th><th>mag</th></tr></thead>\n",
       "<thead><tr><th>str17</th><th>float64</th><th>float64</th><th>float64</th><th>float64</th></tr></thead>\n",
       "<tr><td>2025-Jan-01 00:00</td><td>273.92979</td><td>-27.35695</td><td>2.666887659891</td><td>13.936</td></tr>\n",
       "<tr><td>2025-Jan-02 00:00</td><td>274.62845</td><td>-27.30245</td><td>2.66743656879517</td><td>13.945</td></tr>\n",
       "<tr><td>2025-Jan-03 00:00</td><td>275.32536</td><td>-27.2449</td><td>2.66789424829913</td><td>13.954</td></tr>\n",
       "<tr><td>2025-Jan-04 00:00</td><td>276.0205</td><td>-27.1843</td><td>2.66826052103155</td><td>13.963</td></tr>\n",
       "<tr><td>2025-Jan-05 00:00</td><td>276.71383</td><td>-27.12069</td><td>2.66853529233489</td><td>13.972</td></tr>\n",
       "<tr><td>2025-Jan-06 00:00</td><td>277.40533</td><td>-27.05408</td><td>2.66871853535247</td><td>13.981</td></tr>\n",
       "<tr><td>2025-Jan-07 00:00</td><td>278.09497</td><td>-26.9845</td><td>2.66881027123436</td><td>13.989</td></tr>\n",
       "<tr><td>2025-Jan-08 00:00</td><td>278.78272</td><td>-26.91197</td><td>2.6688105463002</td><td>13.998</td></tr>\n",
       "<tr><td>2025-Jan-09 00:00</td><td>279.46857</td><td>-26.83651</td><td>2.66871940781274</td><td>14.006</td></tr>\n",
       "<tr><td>2025-Jan-10 00:00</td><td>280.1525</td><td>-26.75815</td><td>2.66853687990734</td><td>14.014</td></tr>\n",
       "</table></div>"
      ],
      "text/plain": [
       "<Table length=10>\n",
       "   datetime_str       RA       DEC         delta          V   \n",
       "       ---           deg       deg           AU          mag  \n",
       "      str17        float64   float64      float64      float64\n",
       "----------------- --------- --------- ---------------- -------\n",
       "2025-Jan-01 00:00 273.92979 -27.35695   2.666887659891  13.936\n",
       "2025-Jan-02 00:00 274.62845 -27.30245 2.66743656879517  13.945\n",
       "2025-Jan-03 00:00 275.32536  -27.2449 2.66789424829913  13.954\n",
       "2025-Jan-04 00:00  276.0205  -27.1843 2.66826052103155  13.963\n",
       "2025-Jan-05 00:00 276.71383 -27.12069 2.66853529233489  13.972\n",
       "2025-Jan-06 00:00 277.40533 -27.05408 2.66871853535247  13.981\n",
       "2025-Jan-07 00:00 278.09497  -26.9845 2.66881027123436  13.989\n",
       "2025-Jan-08 00:00 278.78272 -26.91197  2.6688105463002  13.998\n",
       "2025-Jan-09 00:00 279.46857 -26.83651 2.66871940781274  14.006\n",
       "2025-Jan-10 00:00  280.1525 -26.75815 2.66853687990734  14.014"
      ]
     },
     "execution_count": 2,
     "metadata": {},
     "output_type": "execute_result"
    }
   ],
   "source": [
    "from astroquery.jplhorizons import Horizons\n",
    "\n",
    "# Example: Get ephemeris data for Eros as seen from Mars\n",
    "obj = Horizons(id='433', location='499', epochs={'start':'2025-01-01', 'stop':'2025-01-10', 'step':'1d'})\n",
    "eph = obj.ephemerides()\n",
    "vec = obj.vectors()\n",
    "elem = obj.elements()\n",
    "eph[['datetime_str', 'RA', 'DEC', 'delta', 'V']]"
   ]
  },
  {
   "cell_type": "code",
   "execution_count": 15,
   "id": "2fddeb84-c3b1-43c1-a412-c48152dcb517",
   "metadata": {},
   "outputs": [
    {
     "data": {
      "text/html": [
       "<div><i>Table length=15</i>\n",
       "<table id=\"table2691340734384\" class=\"table-striped table-bordered table-condensed\">\n",
       "<thead><tr><th>datetime_str</th><th>RA</th><th>DEC</th><th>delta</th><th>delta_rate</th><th>Tmag</th></tr></thead>\n",
       "<thead><tr><th>---</th><th>deg</th><th>deg</th><th>AU</th><th>km / s</th><th>mag</th></tr></thead>\n",
       "<thead><tr><th>str17</th><th>float64</th><th>float64</th><th>float64</th><th>float64</th><th>float64</th></tr></thead>\n",
       "<tr><td>2025-Oct-01 00:00</td><td>339.62729</td><td>-5.24396</td><td>3.10538804309206</td><td>11.222229</td><td>20.776</td></tr>\n",
       "<tr><td>2025-Oct-02 00:00</td><td>339.42378</td><td>-5.32093</td><td>3.11199287011385</td><td>11.7046601</td><td>20.78</td></tr>\n",
       "<tr><td>2025-Oct-03 00:00</td><td>339.22367</td><td>-5.39673</td><td>3.11887809852323</td><td>12.1792209</td><td>20.784</td></tr>\n",
       "<tr><td>2025-Oct-04 00:00</td><td>339.02707</td><td>-5.47134</td><td>3.12603913749087</td><td>12.645789</td><td>20.788</td></tr>\n",
       "<tr><td>2025-Oct-05 00:00</td><td>338.83407</td><td>-5.5447</td><td>3.13347133949229</td><td>13.1042987</td><td>20.792</td></tr>\n",
       "<tr><td>2025-Oct-06 00:00</td><td>338.64476</td><td>-5.61679</td><td>3.14117003410571</td><td>13.5547428</td><td>20.797</td></tr>\n",
       "<tr><td>2025-Oct-07 00:00</td><td>338.45922</td><td>-5.68757</td><td>3.14913055927371</td><td>13.9971611</td><td>20.802</td></tr>\n",
       "<tr><td>2025-Oct-08 00:00</td><td>338.27754</td><td>-5.75701</td><td>3.15734828135253</td><td>14.4316132</td><td>20.806</td></tr>\n",
       "<tr><td>2025-Oct-09 00:00</td><td>338.09979</td><td>-5.82509</td><td>3.1658185957547</td><td>14.85814</td><td>20.811</td></tr>\n",
       "<tr><td>2025-Oct-10 00:00</td><td>337.92605</td><td>-5.89176</td><td>3.17453690525527</td><td>15.2767273</td><td>20.817</td></tr>\n",
       "<tr><td>2025-Oct-11 00:00</td><td>337.75639</td><td>-5.957</td><td>3.18349858113555</td><td>15.6872846</td><td>20.822</td></tr>\n",
       "<tr><td>2025-Oct-12 00:00</td><td>337.59088</td><td>-6.02079</td><td>3.19269891843684</td><td>16.0896464</td><td>20.827</td></tr>\n",
       "<tr><td>2025-Oct-13 00:00</td><td>337.42959</td><td>-6.0831</td><td>3.20213309700007</td><td>16.4835891</td><td>20.833</td></tr>\n",
       "<tr><td>2025-Oct-14 00:00</td><td>337.27259</td><td>-6.14389</td><td>3.21179615536305</td><td>16.8688567</td><td>20.838</td></tr>\n",
       "<tr><td>2025-Oct-15 00:00</td><td>337.11994</td><td>-6.20315</td><td>3.22168297872529</td><td>17.2451831</td><td>20.844</td></tr>\n",
       "</table></div>"
      ],
      "text/plain": [
       "<Table length=15>\n",
       "   datetime_str       RA      DEC         delta       delta_rate   Tmag \n",
       "       ---           deg      deg           AU          km / s     mag  \n",
       "      str17        float64  float64      float64       float64   float64\n",
       "----------------- --------- -------- ---------------- ---------- -------\n",
       "2025-Oct-01 00:00 339.62729 -5.24396 3.10538804309206  11.222229  20.776\n",
       "2025-Oct-02 00:00 339.42378 -5.32093 3.11199287011385 11.7046601   20.78\n",
       "2025-Oct-03 00:00 339.22367 -5.39673 3.11887809852323 12.1792209  20.784\n",
       "2025-Oct-04 00:00 339.02707 -5.47134 3.12603913749087  12.645789  20.788\n",
       "2025-Oct-05 00:00 338.83407  -5.5447 3.13347133949229 13.1042987  20.792\n",
       "2025-Oct-06 00:00 338.64476 -5.61679 3.14117003410571 13.5547428  20.797\n",
       "2025-Oct-07 00:00 338.45922 -5.68757 3.14913055927371 13.9971611  20.802\n",
       "2025-Oct-08 00:00 338.27754 -5.75701 3.15734828135253 14.4316132  20.806\n",
       "2025-Oct-09 00:00 338.09979 -5.82509  3.1658185957547   14.85814  20.811\n",
       "2025-Oct-10 00:00 337.92605 -5.89176 3.17453690525527 15.2767273  20.817\n",
       "2025-Oct-11 00:00 337.75639   -5.957 3.18349858113555 15.6872846  20.822\n",
       "2025-Oct-12 00:00 337.59088 -6.02079 3.19269891843684 16.0896464  20.827\n",
       "2025-Oct-13 00:00 337.42959  -6.0831 3.20213309700007 16.4835891  20.833\n",
       "2025-Oct-14 00:00 337.27259 -6.14389 3.21179615536305 16.8688567  20.838\n",
       "2025-Oct-15 00:00 337.11994 -6.20315 3.22168297872529 17.2451831  20.844"
      ]
     },
     "execution_count": 15,
     "metadata": {},
     "output_type": "execute_result"
    }
   ],
   "source": [
    "from astroquery.jplhorizons import Horizons\n",
    "\n",
    "# Example: Get ephemeris data for Encke from earth\n",
    "obj = Horizons(id='90000091', location='399', epochs={'start':'2025-10-01', 'stop':'2025-10-15', 'step':'1d'})\n",
    "eph = obj.ephemerides()\n",
    "vec = obj.vectors()\n",
    "elem = obj.elements()\n",
    "eph[['datetime_str', 'RA', 'DEC', 'delta', 'delta_rate','Tmag']]"
   ]
  },
  {
   "cell_type": "code",
   "execution_count": 21,
   "id": "1ed381db-cbbd-471e-934f-4ea74e58a20e",
   "metadata": {},
   "outputs": [
    {
     "data": {
      "text/html": [
       "<div><i>Table length=10</i>\n",
       "<table id=\"table2691341541808\" class=\"table-striped table-bordered table-condensed\">\n",
       "<thead><tr><th>datetime_str</th><th>RA</th><th>DEC</th><th>delta</th><th>V</th></tr></thead>\n",
       "<thead><tr><th>---</th><th>deg</th><th>deg</th><th>AU</th><th>mag</th></tr></thead>\n",
       "<thead><tr><th>str17</th><th>float64</th><th>float64</th><th>float64</th><th>float64</th></tr></thead>\n",
       "<tr><td>2022-Mar-01 00:00</td><td>1.50956</td><td>-0.2792</td><td>4.85880415482912</td><td>-2.338</td></tr>\n",
       "<tr><td>2022-Mar-02 00:00</td><td>1.58759</td><td>-0.24413</td><td>4.84642707134296</td><td>-2.344</td></tr>\n",
       "<tr><td>2022-Mar-03 00:00</td><td>1.66468</td><td>-0.2094</td><td>4.83402351585973</td><td>-2.349</td></tr>\n",
       "<tr><td>2022-Mar-04 00:00</td><td>1.74086</td><td>-0.1753</td><td>4.82159335679099</td><td>-2.355</td></tr>\n",
       "<tr><td>2022-Mar-05 00:00</td><td>1.81599</td><td>-0.14198</td><td>4.80915743796014</td><td>-2.361</td></tr>\n",
       "<tr><td>2022-Mar-06 00:00</td><td>1.88991</td><td>-0.10932</td><td>4.79673408581566</td><td>-2.367</td></tr>\n",
       "<tr><td>2022-Mar-07 00:00</td><td>1.9626</td><td>-0.07703</td><td>4.78432266395758</td><td>-2.372</td></tr>\n",
       "<tr><td>2022-Mar-08 00:00</td><td>2.03413</td><td>-0.04497</td><td>4.77190582850792</td><td>-2.378</td></tr>\n",
       "<tr><td>2022-Mar-09 00:00</td><td>2.10465</td><td>-0.01327</td><td>4.75946663920934</td><td>-2.384</td></tr>\n",
       "<tr><td>2022-Mar-10 00:00</td><td>2.17418</td><td>0.01775</td><td>4.74700768160102</td><td>-2.39</td></tr>\n",
       "</table></div>"
      ],
      "text/plain": [
       "<Table length=10>\n",
       "   datetime_str      RA     DEC         delta          V   \n",
       "       ---          deg     deg           AU          mag  \n",
       "      str17       float64 float64      float64      float64\n",
       "----------------- ------- -------- ---------------- -------\n",
       "2022-Mar-01 00:00 1.50956  -0.2792 4.85880415482912  -2.338\n",
       "2022-Mar-02 00:00 1.58759 -0.24413 4.84642707134296  -2.344\n",
       "2022-Mar-03 00:00 1.66468  -0.2094 4.83402351585973  -2.349\n",
       "2022-Mar-04 00:00 1.74086  -0.1753 4.82159335679099  -2.355\n",
       "2022-Mar-05 00:00 1.81599 -0.14198 4.80915743796014  -2.361\n",
       "2022-Mar-06 00:00 1.88991 -0.10932 4.79673408581566  -2.367\n",
       "2022-Mar-07 00:00  1.9626 -0.07703 4.78432266395758  -2.372\n",
       "2022-Mar-08 00:00 2.03413 -0.04497 4.77190582850792  -2.378\n",
       "2022-Mar-09 00:00 2.10465 -0.01327 4.75946663920934  -2.384\n",
       "2022-Mar-10 00:00 2.17418  0.01775 4.74700768160102   -2.39"
      ]
     },
     "execution_count": 21,
     "metadata": {},
     "output_type": "execute_result"
    }
   ],
   "source": [
    "from astroquery.jplhorizons import Horizons\n",
    "\n",
    "# Example: Get ephemeris data for jupiter from new horizons SC\n",
    "obj = Horizons(id='599', location='@-74', epochs={'start':'2022-03-01', 'stop':'2022-03-10', 'step':'1d'})\n",
    "eph = obj.ephemerides()\n",
    "vec = obj.vectors()\n",
    "#elem = obj.elements()\n",
    "eph[['datetime_str', 'RA', 'DEC', 'delta', 'V']]"
   ]
  },
  {
   "cell_type": "code",
   "execution_count": 12,
   "id": "97c455fe-2057-474b-b30c-b21a453a8723",
   "metadata": {},
   "outputs": [
    {
     "data": {
      "text/plain": [
       "<TableColumns names=('targetname','datetime_str','datetime_jd','M1','solar_presence','k1','lunar_presence','RA','DEC','RA_app','DEC_app','RA_rate','DEC_rate','AZ','EL','AZ_rate','EL_rate','sat_X','sat_Y','sat_PANG','siderealtime','airmass','magextinct','Tmag','Nmag','illumination','illum_defect','sat_sep','sat_vis','ang_width','PDObsLon','PDObsLat','PDSunLon','PDSunLat','SubSol_ang','SubSol_dist','NPole_ang','NPole_dist','EclLon','EclLat','r','r_rate','delta','delta_rate','lighttime','vel_sun','vel_obs','elong','elongFlag','alpha','lunar_elong','lunar_illum','sat_alpha','sunTargetPA','velocityPA','OrbPlaneAng','constellation','TDB-UT','ObsEclLon','ObsEclLat','NPole_RA','NPole_DEC','GlxLon','GlxLat','solartime','earth_lighttime','RA_3sigma','DEC_3sigma','SMAA_3sigma','SMIA_3sigma','Theta_3sigma','Area_3sigma','RSS_3sigma','r_3sigma','r_rate_3sigma','SBand_3sigma','XBand_3sigma','DoppDelay_3sigma','true_anom','hour_angle','alpha_true','PABLon','PABLat')>"
      ]
     },
     "execution_count": 12,
     "metadata": {},
     "output_type": "execute_result"
    }
   ],
   "source": [
    "eph.column\n"
   ]
  },
  {
   "cell_type": "code",
   "execution_count": 14,
   "id": "2440c245-8368-497e-b389-99f08ddc3e25",
   "metadata": {},
   "outputs": [
    {
     "data": {
      "text/html": [
       "&lt;MaskedColumn name=&apos;delta_rate&apos; dtype=&apos;float64&apos; unit=&apos;km / s&apos; length=15&gt;\n",
       "<table>\n",
       "<tr><td>11.222229</td></tr>\n",
       "<tr><td>11.7046601</td></tr>\n",
       "<tr><td>12.1792209</td></tr>\n",
       "<tr><td>12.645789</td></tr>\n",
       "<tr><td>13.1042987</td></tr>\n",
       "<tr><td>13.5547428</td></tr>\n",
       "<tr><td>13.9971611</td></tr>\n",
       "<tr><td>14.4316132</td></tr>\n",
       "<tr><td>14.85814</td></tr>\n",
       "<tr><td>15.2767273</td></tr>\n",
       "<tr><td>15.6872846</td></tr>\n",
       "<tr><td>16.0896464</td></tr>\n",
       "<tr><td>16.4835891</td></tr>\n",
       "<tr><td>16.8688567</td></tr>\n",
       "<tr><td>17.2451831</td></tr>\n",
       "</table>"
      ],
      "text/plain": [
       "<MaskedColumn name='delta_rate' dtype='float64' unit='km / s' length=15>\n",
       " 11.222229\n",
       "11.7046601\n",
       "12.1792209\n",
       " 12.645789\n",
       "13.1042987\n",
       "13.5547428\n",
       "13.9971611\n",
       "14.4316132\n",
       "  14.85814\n",
       "15.2767273\n",
       "15.6872846\n",
       "16.0896464\n",
       "16.4835891\n",
       "16.8688567\n",
       "17.2451831"
      ]
     },
     "execution_count": 14,
     "metadata": {},
     "output_type": "execute_result"
    }
   ],
   "source": [
    "eph['delta_rate']"
   ]
  },
  {
   "cell_type": "code",
   "execution_count": 38,
   "id": "9cfbf292-05d6-44e4-9863-9b9c0dbd789a",
   "metadata": {},
   "outputs": [
    {
     "name": "stdout",
     "output_type": "stream",
     "text": [
      "   datetime_str       RA      DEC         delta       delta_rate\n",
      "       ---           deg      deg           AU          km / s  \n",
      "----------------- --------- -------- ---------------- ----------\n",
      "2017-Oct-01 00:00 345.80064 -1.67877 0.04291053940057 -6.9253305\n",
      "2017-Oct-01 06:00 345.71932 -1.69241 0.04194419852089  -6.454666\n",
      "2017-Oct-01 12:00 345.69277 -1.70473 0.04102290809432 -6.4329487\n",
      "2017-Oct-01 18:00 345.72872 -1.71903  0.0400613497152 -6.8888876\n",
      "2017-Oct-02 00:00 345.70673 -1.73557 0.03905717388192 -6.8928336\n",
      "2017-Oct-02 06:00 345.61937 -1.75086 0.03809564222783 -6.4229299\n",
      "2017-Oct-02 12:00 345.59335 -1.76475 0.03717823023088 -6.4109898\n",
      "2017-Oct-02 18:00 345.63514 -1.78103 0.03621958758442 -6.8680433\n",
      "2017-Oct-03 00:00 345.61158 -1.79995 0.03521897649408 -6.8642444\n",
      "              ...       ...      ...              ...        ...\n",
      "2017-Oct-22 18:00 153.75148 13.63178   0.039793972961  6.8144344\n",
      "2017-Oct-23 00:00 153.79331 13.62225 0.04076838899529  6.5789772\n",
      "2017-Oct-23 06:00 153.85443 13.63145 0.04168574989165  6.1937482\n",
      "2017-Oct-23 12:00  153.8331 13.64409 0.04258936010865  6.4291205\n",
      "2017-Oct-23 18:00 153.79541 13.63759 0.04354972340495  6.8094231\n",
      "2017-Oct-24 00:00 153.83827 13.62688 0.04452286901479  6.5674695\n",
      "2017-Oct-24 06:00 153.89763 13.63345 0.04543870982353  6.1859239\n",
      "2017-Oct-24 12:00  153.8811 13.64297 0.04634169987689   6.427267\n",
      "2017-Oct-24 18:00  153.8506 13.63489  0.0473016100284  6.8033247\n",
      "2017-Oct-25 00:00 153.89445 13.62323 0.04827333279182   6.554948\n",
      "Length = 97 rows\n",
      "targetname    datetime_str   datetime_jd   H   ... alpha_true  PABLon   PABLat \n",
      "   ---            ---             d       mag  ...    deg       deg      deg   \n",
      "---------- ----------------- ----------- ----- ... ---------- -------- --------\n",
      "(2012 TC4) 2017-Oct-12 06:00  2458038.75 26.71 ...   135.9443 315.3267 -32.7637\n"
     ]
    }
   ],
   "source": [
    "from astroquery.jplhorizons import Horizons\n",
    "import numpy as np\n",
    "# Example: Get ephemeris data for Encke from earth\n",
    "obj = Horizons(id='2012 TC4', location='301', epochs={'start':'2017-10-01', 'stop':'2017-10-25', 'step':'6h'})\n",
    "eph = obj.ephemerides()\n",
    "vec = obj.vectors()\n",
    "elem = obj.elements()\n",
    "print(eph[['datetime_str', 'RA', 'DEC', 'delta', 'delta_rate']])\n",
    "min(eph['delta'])\n",
    "\n",
    "Mask = np.where(eph['delta'] == min(eph['delta']))\n",
    "Close_approach_data = eph[Mask]\n",
    "print(Close_approach_data)"
   ]
  },
  {
   "cell_type": "code",
   "execution_count": 39,
   "id": "30eb9013-579c-4fd2-80b2-82cd01b30e2c",
   "metadata": {},
   "outputs": [
    {
     "name": "stdout",
     "output_type": "stream",
     "text": [
      "   datetime_str       RA      DEC         delta       delta_rate\n",
      "       ---           deg      deg           AU          km / s  \n",
      "----------------- --------- -------- ---------------- ----------\n",
      "2017-Oct-01 00:00 345.80064 -1.67877 0.04291053940057 -6.9253305\n",
      "2017-Oct-01 01:00 345.78866  -1.6812 0.04274465322539 -6.8582284\n",
      "2017-Oct-01 02:00 345.77515 -1.68357 0.04258053579274 -6.7791702\n",
      "2017-Oct-01 03:00 345.76075 -1.68588  0.0424184118648 -6.6934975\n",
      "2017-Oct-01 04:00 345.74616 -1.68812 0.04225837136562 -6.6070097\n",
      "2017-Oct-01 05:00 345.73212  -1.6903 0.04210036315007 -6.5255629\n",
      "2017-Oct-01 06:00 345.71932 -1.69241 0.04194419852089  -6.454666\n",
      "2017-Oct-01 07:00 345.70838 -1.69448 0.04178956424711 -6.3990997\n",
      "2017-Oct-01 08:00 345.69979 -1.69652 0.04163604416662 -6.3625879\n",
      "              ...       ...      ...              ...        ...\n",
      "2017-Oct-24 15:00 153.85949 13.64107 0.04681449244175  6.6662404\n",
      "2017-Oct-24 16:00 153.85443 13.63936 0.04697568076178  6.7292045\n",
      "2017-Oct-24 17:00 153.85135 13.63725  0.0471381969366  6.7759731\n",
      "2017-Oct-24 18:00  153.8506 13.63489 0.04730161002841  6.8033247\n",
      "2017-Oct-24 19:00 153.85239 13.63241 0.04746542728222  6.8093719\n",
      "2017-Oct-24 20:00 153.85673 13.62996 0.04762912795084  6.7936883\n",
      "2017-Oct-24 21:00 153.86349  13.6277 0.04779219897602  6.7573353\n",
      "2017-Oct-24 22:00 153.87234 13.62576  0.0479541700784  6.7027865\n",
      "2017-Oct-24 23:00 153.88285 13.62424 0.04811464586636  6.6337569\n",
      "2017-Oct-25 00:00 153.89445 13.62323 0.04827333279182   6.554948\n",
      "Length = 577 rows\n",
      "targetname    datetime_str   datetime_jd   H   ... alpha_true  PABLon   PABLat \n",
      "   ---            ---             d       mag  ...    deg       deg      deg   \n",
      "---------- ----------------- ----------- ----- ... ---------- -------- --------\n",
      "(2012 TC4) 2017-Oct-12 06:00  2458038.75 26.71 ...   135.9443 315.3267 -32.7637\n"
     ]
    }
   ],
   "source": [
    "from astroquery.jplhorizons import Horizons\n",
    "import numpy as np\n",
    "# Example: Get ephemeris data for Encke from earth\n",
    "obj = Horizons(id='2012 TC4', location='301', epochs={'start':'2017-10-01', 'stop':'2017-10-25', 'step':'1h'})\n",
    "eph = obj.ephemerides()\n",
    "vec = obj.vectors()\n",
    "elem = obj.elements()\n",
    "print(eph[['datetime_str', 'RA', 'DEC', 'delta', 'delta_rate']])\n",
    "min(eph['delta'])\n",
    "\n",
    "Mask = np.where(eph['delta'] == min(eph['delta']))\n",
    "Close_approach_data = eph[Mask]\n",
    "print(Close_approach_data)"
   ]
  },
  {
   "cell_type": "code",
   "execution_count": 43,
   "id": "52241819-3b4b-40b5-ab07-03515cf510c9",
   "metadata": {},
   "outputs": [
    {
     "name": "stdout",
     "output_type": "stream",
     "text": [
      "   datetime_str       RA      DEC         delta       delta_rate\n",
      "       ---           deg      deg           AU          km / s  \n",
      "----------------- --------- -------- ---------------- ----------\n",
      "2017-Oct-11 00:00 342.78795 -5.07025 0.00479290657788 -6.7719548\n",
      "2017-Oct-11 00:01 342.78497 -5.07237 0.00479019053148 -6.7707732\n",
      "2017-Oct-11 00:02 342.78199 -5.07449 0.00478747495974  -6.769588\n",
      "2017-Oct-11 00:03   342.779 -5.07662 0.00478475986413 -6.7683991\n",
      "2017-Oct-11 00:04 342.77601 -5.07875 0.00478204524609 -6.7672066\n",
      "2017-Oct-11 00:05   342.773 -5.08088 0.00477933110706 -6.7660106\n",
      "2017-Oct-11 00:06 342.76999 -5.08301 0.00477661744846  -6.764811\n",
      "2017-Oct-11 00:07 342.76697 -5.08514 0.00477390427172 -6.7636079\n",
      "2017-Oct-11 00:08 342.76395 -5.08727 0.00477119157824 -6.7624013\n",
      "              ...       ...      ...              ...        ...\n",
      "2017-Oct-12 23:51 158.09773  8.30728 0.00300770134424  6.7608258\n",
      "2017-Oct-12 23:52 158.09552  8.31233 0.00301041244042  6.7595451\n",
      "2017-Oct-12 23:53 158.09331  8.31737 0.00301312302235  6.7582613\n",
      "2017-Oct-12 23:54 158.09111  8.32241 0.00301583308881  6.7569745\n",
      "2017-Oct-12 23:55 158.08892  8.32744 0.00301854263856  6.7556846\n",
      "2017-Oct-12 23:56 158.08674  8.33245 0.00302125167041  6.7543917\n",
      "2017-Oct-12 23:57 158.08457  8.33747 0.00302396018315  6.7530958\n",
      "2017-Oct-12 23:58 158.08241  8.34247 0.00302666817559   6.751797\n",
      "2017-Oct-12 23:59 158.08026  8.34747 0.00302937564654  6.7504953\n",
      "2017-Oct-13 00:00 158.07811  8.35245 0.00303208259485  6.7491906\n",
      "Length = 2881 rows\n",
      "0.0003752794057\n",
      "targetname    datetime_str    datetime_jd  ... alpha_true  PABLon   PABLat \n",
      "   ---            ---              d       ...    deg       deg      deg   \n",
      "---------- ----------------- ------------- ... ---------- -------- --------\n",
      "(2012 TC4) 2017-Oct-12 05:33 2458038.73125 ...   124.6111 320.0881 -26.4452\n"
     ]
    }
   ],
   "source": [
    "from astroquery.jplhorizons import Horizons\n",
    "import numpy as np\n",
    "# Example: Get ephemeris data for Encke from earth\n",
    "obj = Horizons(id='2012 TC4', location='301', epochs={'start':'2017-10-11', 'stop':'2017-10-13', 'step':'1m'})\n",
    "eph = obj.ephemerides()\n",
    "vec = obj.vectors()\n",
    "elem = obj.elements()\n",
    "print(eph[['datetime_str', 'RA', 'DEC', 'delta', 'delta_rate']])\n",
    "print(min(eph['delta']))\n",
    "\n",
    "Mask = np.where(eph['delta'] == min(eph['delta']))\n",
    "Close_approach_data = eph[Mask]\n",
    "print(Close_approach_data)"
   ]
  },
  {
   "cell_type": "code",
   "execution_count": null,
   "id": "2134751b-7869-4570-a583-58c1a6000d1b",
   "metadata": {},
   "outputs": [],
   "source": []
  }
 ],
 "metadata": {
  "kernelspec": {
   "display_name": "Python [conda env:base] *",
   "language": "python",
   "name": "conda-base-py"
  },
  "language_info": {
   "codemirror_mode": {
    "name": "ipython",
    "version": 3
   },
   "file_extension": ".py",
   "mimetype": "text/x-python",
   "name": "python",
   "nbconvert_exporter": "python",
   "pygments_lexer": "ipython3",
   "version": "3.12.3"
  }
 },
 "nbformat": 4,
 "nbformat_minor": 5
}
