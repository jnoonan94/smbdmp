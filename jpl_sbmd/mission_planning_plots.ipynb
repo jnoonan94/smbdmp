{
 "cells": [
  {
   "cell_type": "markdown",
   "id": "429a6116",
   "metadata": {},
   "source": [
    "# JPL Small-Body Mission Design API Tutorial\n",
    "\n",
    "This Jupyter Notebook introduces the use of the JPL Small-Body Mission Design API. It will demonstrate how to query small body data, extract trajectory information, and use this data for planning or analysis purposes."
   ]
  },
  {
   "cell_type": "code",
   "execution_count": 24,
   "id": "cde49ab0",
   "metadata": {},
   "outputs": [],
   "source": [
    "# Section 1: Import Required Libraries\n",
    "import requests\n",
    "import pandas as pd\n",
    "import matplotlib.pyplot as plt\n",
    "from pprint import pprint\n",
    "from astropy.time import Time\n",
    "import numpy as np"
   ]
  },
  {
   "cell_type": "code",
   "execution_count": 25,
   "id": "2e9d1adc",
   "metadata": {},
   "outputs": [],
   "source": [
    "# Section 2: API Overview and Base URL\n",
    "base_url = \"https://ssd-api.jpl.nasa.gov/mdesign.api\""
   ]
  },
  {
   "cell_type": "code",
   "execution_count": 26,
   "id": "0c2c6dd0",
   "metadata": {},
   "outputs": [],
   "source": [
    "# Section 3: Define a helper function to pretty-print JSON responses\n",
    "def query_api(params):\n",
    "    response = requests.get(base_url, params=params)\n",
    "    response.raise_for_status()\n",
    "    return response.json()"
   ]
  },
  {
   "cell_type": "code",
   "execution_count": 36,
   "id": "5878fdae",
   "metadata": {},
   "outputs": [],
   "source": [
    "# Section 4: Define Parameters for Pork-Chop Plot\n",
    "# We'll sweep launch dates and TOF values for 1P/Halley\n",
    "launch_start = Time('2025-01-01T00:00:00',format='isot').mjd\n",
    "\n",
    "launch_span = 365 #Days \n",
    "tof_min = 180 #Days\n",
    "tof_max = 720 #Days\n"
   ]
  },
  {
   "cell_type": "code",
   "execution_count": 38,
   "id": "58eae3f0",
   "metadata": {},
   "outputs": [
    {
     "name": "stdout",
     "output_type": "stream",
     "text": [
      "Gathering pork-chop data (this may take a few minutes)...\n",
      "Failed for 60765.0 TOF 180: 0\n",
      "Failed for 60765.0 TOF 210: 0\n",
      "Failed for 60765.0 TOF 240: 0\n",
      "Failed for 60765.0 TOF 270: 0\n",
      "Failed for 60765.0 TOF 300: 0\n",
      "Failed for 60765.0 TOF 330: 0\n",
      "Failed for 60765.0 TOF 360: 0\n",
      "Failed for 60765.0 TOF 390: 0\n",
      "Failed for 60765.0 TOF 420: 0\n",
      "Failed for 60765.0 TOF 450: 0\n",
      "Failed for 60765.0 TOF 480: 0\n",
      "Failed for 60765.0 TOF 510: 0\n",
      "Failed for 60765.0 TOF 540: 0\n",
      "Failed for 60765.0 TOF 570: 0\n",
      "Failed for 60765.0 TOF 600: 0\n",
      "Failed for 60765.0 TOF 630: 0\n",
      "Failed for 60765.0 TOF 660: 0\n",
      "Failed for 60765.0 TOF 690: 0\n"
     ]
    }
   ],
   "source": [
    "\n",
    "# Section 5: Query and Build Pork-Chop Data Grid\n",
    "target = \"46P\" #this is the short designation for the target\n",
    "porkchop_data = []\n",
    "\n",
    "print(\"Gathering pork-chop data (this may take a few minutes)...\")\n",
    "params = {\n",
    "            \"des\": target,\n",
    "            \"mjd0\": int(launch_date),\n",
    "            \"tof-min\": tof_min,\n",
    "            \"tof-max\": tof_max,\n",
    "            \"span\": 90,\n",
    "            \"step\":5,\n",
    "        }\n",
    "        \n",
    "        try:\n",
    "            result = query_api(params)\n",
    "            if result[\"selectedMissions\"]:\n",
    "                best = result[0]\n",
    "                porkchop_data.append({\n",
    "                    \"launch\": launch_date,\n",
    "                    \"tof\": best['MJDf']-best['MJD0'],\n",
    "                    \"vinf_dep\": best['vinf_dep'],\n",
    "                    \"vinf_arr\": best['vinf_arr'],\n",
    "                    \"c3\": best['c3'],\n",
    "                    \"mass_dry\": best.get(\"mass_dry\"),\n",
    "                    \"mass_wet\": best.get(\"mass_wet\")\n",
    "                })\n",
    "        except Exception as e:\n",
    "            print(f\"Failed for {launch_date} TOF {tof}: {e}\")    \n"
   ]
  },
  {
   "cell_type": "code",
   "execution_count": null,
   "id": "74eb9f12",
   "metadata": {},
   "outputs": [],
   "source": [
    "#Section 6: Build DataFrame and Generate Pork-Chop Plot\n",
    "df = pd.DataFrame(porkchop_data)\n",
    "df['launch_date'] = pd.to_datetime(df['launch'])\n",
    "df['launch_jd'] = df['launch_date'].map(lambda d: d.toordinal())\n",
    "\n",
    "# Pivot data for contour plot\n",
    "pivot = df.pivot(index='tof', columns='launch_jd', values='c3')\n",
    "X, Y = np.meshgrid(pivot.columns, pivot.index)\n",
    "Z = pivot.values\n",
    "\n",
    "# Convert launch dates back to datetime for labels\n",
    "launch_labels = [datetime.fromordinal(int(jd)) for jd in pivot.columns]\n",
    "\n",
    "plt.figure(figsize=(12, 7))\n",
    "cp = plt.contourf(X, Y, Z, levels=20, cmap='viridis')\n",
    "plt.colorbar(cp, label='Launch C3 (km²/s²)')\n",
    "plt.title(f\"Pork-Chop Plot for Mission to {target}\")\n",
    "plt.xlabel(\"Launch Date\")\n",
    "plt.ylabel(\"Time of Flight (days)\")\n",
    "plt.xticks(ticks=pivot.columns[::5], labels=[d.strftime('%Y-%m-%d') for d in launch_labels[::5]], rotation=45)\n",
    "plt.grid(True)\n",
    "plt.tight_layout()\n",
    "plt.show()\n",
    "\n",
    "# Section 6: Mass Delivery Visualization\n",
    "plt.figure(figsize=(12, 6))\n",
    "filtered = df.dropna(subset=['mass_dry'])\n",
    "sc = plt.scatter(filtered['launch_date'], filtered['tof'], c=filtered['mass_dry'], cmap='plasma', s=60)\n",
    "plt.colorbar(sc, label='Dry Mass Delivered (kg)')\n",
    "plt.xlabel(\"Launch Date\")\n",
    "plt.ylabel(\"Time of Flight (days)\")\n",
    "plt.title(f\"Dry Mass Delivery Capability to {target}\")\n",
    "plt.grid(True)\n",
    "plt.tight_layout()\n",
    "plt.show()"
   ]
  },
  {
   "cell_type": "code",
   "execution_count": null,
   "id": "5b1231f4",
   "metadata": {},
   "outputs": [],
   "source": []
  },
  {
   "cell_type": "code",
   "execution_count": null,
   "id": "5f0d122e",
   "metadata": {},
   "outputs": [],
   "source": []
  },
  {
   "cell_type": "code",
   "execution_count": null,
   "id": "d0926647",
   "metadata": {},
   "outputs": [],
   "source": []
  },
  {
   "cell_type": "code",
   "execution_count": null,
   "id": "8b3e65a2",
   "metadata": {},
   "outputs": [],
   "source": []
  },
  {
   "cell_type": "markdown",
   "id": "860b52b8",
   "metadata": {},
   "source": [
    "_End of notebook_"
   ]
  }
 ],
 "metadata": {
  "kernelspec": {
   "display_name": "Python 3 (ipykernel)",
   "language": "python",
   "name": "python3"
  },
  "language_info": {
   "codemirror_mode": {
    "name": "ipython",
    "version": 3
   },
   "file_extension": ".py",
   "mimetype": "text/x-python",
   "name": "python",
   "nbconvert_exporter": "python",
   "pygments_lexer": "ipython3",
   "version": "3.9.17"
  }
 },
 "nbformat": 4,
 "nbformat_minor": 5
}
