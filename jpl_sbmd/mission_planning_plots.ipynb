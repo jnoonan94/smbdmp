{
 "cells": [
  {
   "cell_type": "markdown",
   "id": "429a6116",
   "metadata": {},
   "source": [
    "# JPL Small-Body Mission Design API Tutorial\n",
    "\n",
    "This Jupyter Notebook introduces the use of the JPL Small-Body Mission Design API. It will demonstrate how to query small body data, extract trajectory information, and use this data for planning or analysis purposes."
   ]
  },
  {
   "cell_type": "code",
   "execution_count": 1,
   "id": "cde49ab0",
   "metadata": {},
   "outputs": [],
   "source": [
    "# Section 1: Import Required Libraries\n",
    "import requests\n",
    "import pandas as pd\n",
    "import matplotlib.pyplot as plt\n",
    "from pprint import pprint"
   ]
  },
  {
   "cell_type": "code",
   "execution_count": 2,
   "id": "2e9d1adc",
   "metadata": {},
   "outputs": [],
   "source": [
    "# Section 2: API Overview and Base URL\n",
    "base_url = \"https://ssd-api.jpl.nasa.gov/mdesign.api\""
   ]
  },
  {
   "cell_type": "code",
   "execution_count": 3,
   "id": "0c2c6dd0",
   "metadata": {},
   "outputs": [],
   "source": [
    "# Section 3: Define a helper function to pretty-print JSON responses\n",
    "def query_api(params):\n",
    "    response = requests.get(base_url, params=params)\n",
    "    response.raise_for_status()\n",
    "    return response.json()"
   ]
  },
  {
   "cell_type": "code",
   "execution_count": null,
   "id": "5878fdae",
   "metadata": {},
   "outputs": [],
   "source": [
    "# Section 4: Define Parameters for Pork-Chop Plot\n",
    "# We'll sweep launch dates and TOF values for 1P/Halley\n",
    "launch_start = datetime(2025, 1, 1)\n",
    "launch_end = datetime(2025, 3, 1)\n",
    "JD_EPOCH = datetime(-4712, 1, 1, 12, 0, 0)\n",
    "launch_span = (launch_end - launch_start).days\n",
    "launch_dates = [launch_start + timedelta(days=i) for i in range(0, launch_span, 5)]\n",
    "tof_range = range(180, 720, 30)  # in days\n",
    "\n",
    "def mjd_conv(dt):\n",
    "    delta = dt - JD_EPOCH\n",
    "    jd = delta.days + (delta.seconds + delta.microseconds / 1e6) / 86400.0\n",
    "\n",
    "    # Calculate the Modified Julian Date (MJD)\n",
    "    mjd = jd - 2400000.5\n",
    "    return mjd\n"
   ]
  },
  {
   "cell_type": "code",
   "execution_count": null,
   "id": "58eae3f0",
   "metadata": {},
   "outputs": [],
   "source": [
    "\n",
    "# Section 5: Query and Build Pork-Chop Data Grid\n",
    "target = \"1P\" #this is the short designation for the target\n",
    "porkchop_data = []\n",
    "\n",
    "print(\"Gathering pork-chop data (this may take a few minutes)...\")\n",
    "for launch_date in launch_dates:\n",
    "    for tof in tof_range:\n",
    "        params = {\n",
    "            \"des\": target,\n",
    "            \"mjd0\": mjd_conv(launch_date),\n",
    "            \"tof-min\": tof,\n",
    "            \"tof-max\": tof,\n",
    "        }\n",
    "        try:\n",
    "            result = query_api(params)\n",
    "            if result[\"selectedMissions\"]:\n",
    "                best = result[0]\n",
    "                porkchop_data.append({\n",
    "                    \"launch\": launch_date,\n",
    "                    \"tof\": best['MJDf']-best['MJD0'],\n",
    "                    \"vinf_dep\": best['vinf_dep'],\n",
    "                    \"vinf_arr\": best['vinf_arr'],\n",
    "                    \"c3\": best['c3'],\n",
    "                    \"mass_dry\": best.get(\"mass_dry\"),\n",
    "                    \"mass_wet\": best.get(\"mass_wet\")\n",
    "                })\n",
    "        except Exception as e:\n",
    "            print(f\"Failed for {launch_date} TOF {tof}: {e}\")\n"
   ]
  },
  {
   "cell_type": "code",
   "execution_count": null,
   "id": "74eb9f12",
   "metadata": {},
   "outputs": [],
   "source": [
    "#Section 6: Build DataFrame and Generate Pork-Chop Plot\n",
    "df = pd.DataFrame(porkchop_data)\n",
    "df['launch_date'] = pd.to_datetime(df['launch'])\n",
    "df['launch_jd'] = df['launch_date'].map(lambda d: d.toordinal())\n",
    "\n",
    "# Pivot data for contour plot\n",
    "pivot = df.pivot(index='tof', columns='launch_jd', values='c3')\n",
    "X, Y = np.meshgrid(pivot.columns, pivot.index)\n",
    "Z = pivot.values\n",
    "\n",
    "# Convert launch dates back to datetime for labels\n",
    "launch_labels = [datetime.fromordinal(int(jd)) for jd in pivot.columns]\n",
    "\n",
    "plt.figure(figsize=(12, 7))\n",
    "cp = plt.contourf(X, Y, Z, levels=20, cmap='viridis')\n",
    "plt.colorbar(cp, label='Launch C3 (km²/s²)')\n",
    "plt.title(f\"Pork-Chop Plot for Mission to {target}\")\n",
    "plt.xlabel(\"Launch Date\")\n",
    "plt.ylabel(\"Time of Flight (days)\")\n",
    "plt.xticks(ticks=pivot.columns[::5], labels=[d.strftime('%Y-%m-%d') for d in launch_labels[::5]], rotation=45)\n",
    "plt.grid(True)\n",
    "plt.tight_layout()\n",
    "plt.show()\n",
    "\n",
    "# Section 6: Mass Delivery Visualization\n",
    "plt.figure(figsize=(12, 6))\n",
    "filtered = df.dropna(subset=['mass_dry'])\n",
    "sc = plt.scatter(filtered['launch_date'], filtered['tof'], c=filtered['mass_dry'], cmap='plasma', s=60)\n",
    "plt.colorbar(sc, label='Dry Mass Delivered (kg)')\n",
    "plt.xlabel(\"Launch Date\")\n",
    "plt.ylabel(\"Time of Flight (days)\")\n",
    "plt.title(f\"Dry Mass Delivery Capability to {target}\")\n",
    "plt.grid(True)\n",
    "plt.tight_layout()\n",
    "plt.show()"
   ]
  },
  {
   "cell_type": "code",
   "execution_count": null,
   "id": "5b1231f4",
   "metadata": {},
   "outputs": [],
   "source": []
  },
  {
   "cell_type": "code",
   "execution_count": null,
   "id": "5f0d122e",
   "metadata": {},
   "outputs": [],
   "source": []
  },
  {
   "cell_type": "code",
   "execution_count": null,
   "id": "d0926647",
   "metadata": {},
   "outputs": [],
   "source": []
  },
  {
   "cell_type": "code",
   "execution_count": null,
   "id": "8b3e65a2",
   "metadata": {},
   "outputs": [],
   "source": []
  },
  {
   "cell_type": "markdown",
   "id": "860b52b8",
   "metadata": {},
   "source": [
    "_End of notebook_"
   ]
  }
 ],
 "metadata": {
  "kernelspec": {
   "display_name": "Python 3 (ipykernel)",
   "language": "python",
   "name": "python3"
  },
  "language_info": {
   "codemirror_mode": {
    "name": "ipython",
    "version": 3
   },
   "file_extension": ".py",
   "mimetype": "text/x-python",
   "name": "python",
   "nbconvert_exporter": "python",
   "pygments_lexer": "ipython3",
   "version": "3.9.17"
  }
 },
 "nbformat": 4,
 "nbformat_minor": 5
}
