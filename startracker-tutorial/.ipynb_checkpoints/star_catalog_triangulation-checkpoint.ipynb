{
 "cells": [
  {
   "cell_type": "markdown",
   "id": "a7fa252a",
   "metadata": {},
   "source": [
    "# 📍 Star Catalog Triangulation Tutorial\n",
    "\n",
    "This notebook demonstrates how a spacecraft can **triangulate its orientation** (attitude) using a star catalog and measurements from a star tracker.\n",
    "\n",
    "We'll simplify to a 2D sky view and use synthetic star directions to show how attitude can be solved by matching observed directions with a known catalog."
   ]
  },
  {
   "cell_type": "code",
   "execution_count": 5,
   "id": "8a20b75a",
   "metadata": {},
   "outputs": [],
   "source": [
    "import numpy as np\n",
    "import matplotlib.pyplot as plt\n",
    "from scipy.spatial.transform import Rotation as R\n",
    "\n",
    "# Create a synthetic 'catalog' of star directions (unit vectors in inertial frame)\n",
    "catalog = np.array([\n",
    "    [1, 0],\n",
    "    [0.5, np.sqrt(3)/2],\n",
    "    [-0.5, np.sqrt(3)/2],\n",
    "    [-1, 0],\n",
    "    [0, -1]\n",
    "])\n",
    "catalog = catalog / np.linalg.norm(catalog, axis=1, keepdims=True)"
   ]
  },
  {
   "cell_type": "markdown",
   "id": "92e2c60a",
   "metadata": {},
   "source": [
    "### 🎯 Define a spacecraft orientation (rotation)\n",
    "We'll rotate the frame by 30 degrees to simulate the star tracker measurement."
   ]
  },
  {
   "cell_type": "code",
   "execution_count": 6,
   "id": "974da687",
   "metadata": {},
   "outputs": [
    {
     "ename": "ValueError",
     "evalue": "Expected input of shape (3,) or (P, 3), got (5, 2).",
     "output_type": "error",
     "traceback": [
      "\u001b[0;31m---------------------------------------------------------------------------\u001b[0m",
      "\u001b[0;31mValueError\u001b[0m                                Traceback (most recent call last)",
      "Cell \u001b[0;32mIn[6], line 4\u001b[0m\n\u001b[1;32m      2\u001b[0m theta_deg \u001b[38;5;241m=\u001b[39m \u001b[38;5;241m30\u001b[39m\n\u001b[1;32m      3\u001b[0m rotation \u001b[38;5;241m=\u001b[39m R\u001b[38;5;241m.\u001b[39mfrom_euler(\u001b[38;5;124m'\u001b[39m\u001b[38;5;124mz\u001b[39m\u001b[38;5;124m'\u001b[39m, theta_deg, degrees\u001b[38;5;241m=\u001b[39m\u001b[38;5;28;01mTrue\u001b[39;00m)\n\u001b[0;32m----> 4\u001b[0m observed \u001b[38;5;241m=\u001b[39m \u001b[43mrotation\u001b[49m\u001b[38;5;241;43m.\u001b[39;49m\u001b[43mapply\u001b[49m\u001b[43m(\u001b[49m\u001b[43mcatalog\u001b[49m\u001b[43m)\u001b[49m\n",
      "File \u001b[0;32m_rotation.pyx:1756\u001b[0m, in \u001b[0;36mscipy.spatial.transform._rotation.Rotation.apply\u001b[0;34m()\u001b[0m\n",
      "\u001b[0;31mValueError\u001b[0m: Expected input of shape (3,) or (P, 3), got (5, 2)."
     ]
    }
   ],
   "source": [
    "# Define a spacecraft rotation (e.g., 30 degrees counterclockwise)\n",
    "theta_deg = 30\n",
    "rotation = R.from_euler('z', theta_deg, degrees=True)\n",
    "observed = rotation.apply(catalog)"
   ]
  },
  {
   "cell_type": "markdown",
   "id": "b9f7056f",
   "metadata": {},
   "source": [
    "### 🧭 Solve for the orientation using Wahba’s Problem (Kabsch Algorithm)\n",
    "We solve for the rotation that best aligns the observed vectors to catalog vectors.\n",
    "This is a basic approach used by star trackers to compute attitude."
   ]
  },
  {
   "cell_type": "code",
   "execution_count": null,
   "id": "191556cd",
   "metadata": {},
   "outputs": [],
   "source": [
    "def solve_attitude(observed, catalog):\n",
    "    H = observed.T @ catalog\n",
    "    U, _, Vt = np.linalg.svd(H)\n",
    "    R_est = Vt.T @ U.T\n",
    "    return R.from_matrix(R_est)\n",
    "\n",
    "# Estimate rotation\n",
    "R_est = solve_attitude(observed, catalog)\n",
    "estimated_angle = R_est.as_euler('zxy', degrees=True)[0]\n",
    "print(f\"Estimated rotation angle: {estimated_angle:.2f} degrees\")"
   ]
  },
  {
   "cell_type": "markdown",
   "id": "5901e79f",
   "metadata": {},
   "source": [
    "### 🔭 Visualize the original vs observed vs aligned stars"
   ]
  },
  {
   "cell_type": "code",
   "execution_count": 3,
   "id": "64a5d0fb",
   "metadata": {},
   "outputs": [
    {
     "ename": "NameError",
     "evalue": "name 'R_est' is not defined",
     "output_type": "error",
     "traceback": [
      "\u001b[0;31m---------------------------------------------------------------------------\u001b[0m",
      "\u001b[0;31mNameError\u001b[0m                                 Traceback (most recent call last)",
      "Cell \u001b[0;32mIn[3], line 1\u001b[0m\n\u001b[0;32m----> 1\u001b[0m aligned \u001b[38;5;241m=\u001b[39m \u001b[43mR_est\u001b[49m\u001b[38;5;241m.\u001b[39mapply(observed)\n\u001b[1;32m      3\u001b[0m plt\u001b[38;5;241m.\u001b[39mfigure(figsize\u001b[38;5;241m=\u001b[39m(\u001b[38;5;241m6\u001b[39m, \u001b[38;5;241m6\u001b[39m))\n\u001b[1;32m      4\u001b[0m plt\u001b[38;5;241m.\u001b[39mquiver(np\u001b[38;5;241m.\u001b[39mzeros(\u001b[38;5;241m5\u001b[39m), np\u001b[38;5;241m.\u001b[39mzeros(\u001b[38;5;241m5\u001b[39m), catalog[:,\u001b[38;5;241m0\u001b[39m], catalog[:,\u001b[38;5;241m1\u001b[39m], angles\u001b[38;5;241m=\u001b[39m\u001b[38;5;124m'\u001b[39m\u001b[38;5;124mxy\u001b[39m\u001b[38;5;124m'\u001b[39m, scale_units\u001b[38;5;241m=\u001b[39m\u001b[38;5;124m'\u001b[39m\u001b[38;5;124mxy\u001b[39m\u001b[38;5;124m'\u001b[39m, scale\u001b[38;5;241m=\u001b[39m\u001b[38;5;241m1\u001b[39m, color\u001b[38;5;241m=\u001b[39m\u001b[38;5;124m'\u001b[39m\u001b[38;5;124mblue\u001b[39m\u001b[38;5;124m'\u001b[39m, label\u001b[38;5;241m=\u001b[39m\u001b[38;5;124m'\u001b[39m\u001b[38;5;124mCatalog\u001b[39m\u001b[38;5;124m'\u001b[39m)\n",
      "\u001b[0;31mNameError\u001b[0m: name 'R_est' is not defined"
     ]
    }
   ],
   "source": [
    "aligned = R_est.apply(observed)\n",
    "\n",
    "plt.figure(figsize=(6, 6))\n",
    "plt.quiver(np.zeros(5), np.zeros(5), catalog[:,0], catalog[:,1], angles='xy', scale_units='xy', scale=1, color='blue', label='Catalog')\n",
    "plt.quiver(np.zeros(5), np.zeros(5), observed[:,0], observed[:,1], angles='xy', scale_units='xy', scale=1, color='red', alpha=0.6, label='Observed')\n",
    "plt.quiver(np.zeros(5), np.zeros(5), aligned[:,0], aligned[:,1], angles='xy', scale_units='xy', scale=1, color='green', alpha=0.6, label='Aligned')\n",
    "\n",
    "plt.legend()\n",
    "plt.grid(True)\n",
    "plt.axis('equal')\n",
    "plt.title(\"Star Vectors: Catalog vs Observed vs Aligned\")\n",
    "plt.show()"
   ]
  },
  {
   "cell_type": "markdown",
   "id": "e7ed7021",
   "metadata": {},
   "source": [
    "## ✅ Summary\n",
    "- Star trackers measure directions to stars.\n",
    "- A known catalog allows matching to find spacecraft orientation.\n",
    "- We demonstrated this using synthetic stars and Wahba’s problem.\n",
    "\n",
    "This 2D example mirrors real 3D star tracker techniques like QUEST or TRIAD used in spacecraft flight software."
   ]
  }
 ],
 "metadata": {
  "kernelspec": {
   "display_name": "Python 3 (ipykernel)",
   "language": "python",
   "name": "python3"
  },
  "language_info": {
   "codemirror_mode": {
    "name": "ipython",
    "version": 3
   },
   "file_extension": ".py",
   "mimetype": "text/x-python",
   "name": "python",
   "nbconvert_exporter": "python",
   "pygments_lexer": "ipython3",
   "version": "3.9.17"
  }
 },
 "nbformat": 4,
 "nbformat_minor": 5
}
