{
 "cells": [
  {
   "cell_type": "markdown",
   "id": "0783cbcf",
   "metadata": {},
   "source": [
    "# 🌟 Star Tracker Simulation with Gaia Subset\n",
    "\n",
    "This notebook shows how to simulate star tracker functionality using a **filtered Gaia catalog**.\n",
    "\n",
    "We'll:\n",
    "- Query a subset of bright stars from the Gaia catalog (Gmag < 8)\n",
    "- Simulate observed positions with rotation\n",
    "- Recover the spacecraft attitude by solving Wahba's problem\n",
    "\n",
    "Requires internet access and the `astroquery` package to run."
   ]
  },
  {
   "cell_type": "code",
   "execution_count": 1,
   "id": "07137708",
   "metadata": {},
   "outputs": [
    {
     "name": "stdout",
     "output_type": "stream",
     "text": [
      "INFO: Query finished. [astroquery.utils.tap.core]\n"
     ]
    },
    {
     "data": {
      "text/html": [
       "<div>\n",
       "<style scoped>\n",
       "    .dataframe tbody tr th:only-of-type {\n",
       "        vertical-align: middle;\n",
       "    }\n",
       "\n",
       "    .dataframe tbody tr th {\n",
       "        vertical-align: top;\n",
       "    }\n",
       "\n",
       "    .dataframe thead th {\n",
       "        text-align: right;\n",
       "    }\n",
       "</style>\n",
       "<table border=\"1\" class=\"dataframe\">\n",
       "  <thead>\n",
       "    <tr style=\"text-align: right;\">\n",
       "      <th></th>\n",
       "      <th>source_id</th>\n",
       "      <th>ra</th>\n",
       "      <th>dec</th>\n",
       "      <th>phot_g_mean_mag</th>\n",
       "    </tr>\n",
       "  </thead>\n",
       "  <tbody>\n",
       "    <tr>\n",
       "      <th>0</th>\n",
       "      <td>5111187420714898304</td>\n",
       "      <td>59.507642</td>\n",
       "      <td>-13.509013</td>\n",
       "      <td>2.270793</td>\n",
       "    </tr>\n",
       "    <tr>\n",
       "      <th>1</th>\n",
       "      <td>4429785739602747392</td>\n",
       "      <td>236.067574</td>\n",
       "      <td>6.425833</td>\n",
       "      <td>2.325354</td>\n",
       "    </tr>\n",
       "    <tr>\n",
       "      <th>2</th>\n",
       "      <td>2962546605447869184</td>\n",
       "      <td>76.365384</td>\n",
       "      <td>-22.371368</td>\n",
       "      <td>2.653493</td>\n",
       "    </tr>\n",
       "    <tr>\n",
       "      <th>3</th>\n",
       "      <td>2887731882922767744</td>\n",
       "      <td>87.740266</td>\n",
       "      <td>-35.766511</td>\n",
       "      <td>2.804179</td>\n",
       "    </tr>\n",
       "    <tr>\n",
       "      <th>4</th>\n",
       "      <td>4039970797062166400</td>\n",
       "      <td>267.464736</td>\n",
       "      <td>-37.043223</td>\n",
       "      <td>2.860071</td>\n",
       "    </tr>\n",
       "  </tbody>\n",
       "</table>\n",
       "</div>"
      ],
      "text/plain": [
       "             source_id          ra        dec  phot_g_mean_mag\n",
       "0  5111187420714898304   59.507642 -13.509013         2.270793\n",
       "1  4429785739602747392  236.067574   6.425833         2.325354\n",
       "2  2962546605447869184   76.365384 -22.371368         2.653493\n",
       "3  2887731882922767744   87.740266 -35.766511         2.804179\n",
       "4  4039970797062166400  267.464736 -37.043223         2.860071"
      ]
     },
     "execution_count": 1,
     "metadata": {},
     "output_type": "execute_result"
    }
   ],
   "source": [
    "from astroquery.gaia import Gaia\n",
    "import numpy as np\n",
    "import pandas as pd\n",
    "from scipy.spatial.transform import Rotation as R\n",
    "import matplotlib.pyplot as plt\n",
    "\n",
    "# Query bright stars with good astrometry\n",
    "query = '''\n",
    "SELECT TOP 100\n",
    "  source_id, ra, dec, phot_g_mean_mag\n",
    "FROM gaiaedr3.gaia_source\n",
    "WHERE phot_g_mean_mag < 8\n",
    "AND parallax > 0\n",
    "AND astrometric_excess_noise < 1\n",
    "'''\n",
    "\n",
    "job = Gaia.launch_job_async(query)\n",
    "gaia_df = job.get_results().to_pandas()\n",
    "gaia_df.head()"
   ]
  },
  {
   "cell_type": "markdown",
   "id": "11233124",
   "metadata": {},
   "source": [
    "### 🧭 Convert RA/Dec to unit vectors in inertial frame"
   ]
  },
  {
   "cell_type": "code",
   "execution_count": 3,
   "id": "776a5314",
   "metadata": {},
   "outputs": [],
   "source": [
    "def radec_to_unitvec(ra_deg, dec_deg):\n",
    "    ra = np.radians(ra_deg)\n",
    "    dec = np.radians(dec_deg)\n",
    "    x = np.cos(dec) * np.cos(ra)\n",
    "    y = np.cos(dec) * np.sin(ra)\n",
    "    z = np.sin(dec)\n",
    "    return np.vstack([x, y, z]).T\n",
    "\n",
    "catalog_vecs = radec_to_unitvec(gaia_df['ra'].values, gaia_df['dec'].values)"
   ]
  },
  {
   "cell_type": "markdown",
   "id": "6190f4af",
   "metadata": {},
   "source": [
    "### 🔄 Simulate spacecraft rotation (attitude)"
   ]
  },
  {
   "cell_type": "code",
   "execution_count": 4,
   "id": "7da66a6a",
   "metadata": {},
   "outputs": [],
   "source": [
    "# Simulate a 3D rotation\n",
    "true_rot = R.from_euler('xyz', [10, 5, 25], degrees=True)\n",
    "observed_vecs = true_rot.apply(catalog_vecs)"
   ]
  },
  {
   "cell_type": "markdown",
   "id": "7ca976c7",
   "metadata": {},
   "source": [
    "### 🧮 Estimate rotation using Wahba's problem"
   ]
  },
  {
   "cell_type": "code",
   "execution_count": 5,
   "id": "710a6064",
   "metadata": {},
   "outputs": [
    {
     "data": {
      "text/plain": [
       "array([ -7.0371424 ,  -8.69512911, -24.0266106 ])"
      ]
     },
     "execution_count": 5,
     "metadata": {},
     "output_type": "execute_result"
    }
   ],
   "source": [
    "def solve_attitude(observed, catalog):\n",
    "    H = observed.T @ catalog\n",
    "    U, _, Vt = np.linalg.svd(H)\n",
    "    R_est = Vt.T @ U.T\n",
    "    return R.from_matrix(R_est)\n",
    "\n",
    "R_est = solve_attitude(observed_vecs, catalog_vecs)\n",
    "R_est.as_euler('xyz', degrees=True)"
   ]
  },
  {
   "cell_type": "markdown",
   "id": "c331b483",
   "metadata": {},
   "source": [
    "### 📈 Visualize a slice of star directions in RA/Dec"
   ]
  },
  {
   "cell_type": "code",
   "execution_count": 6,
   "id": "8dc5c16f",
   "metadata": {},
   "outputs": [
    {
     "data": {
      "image/png": "[encoded data removed]",
      "text/plain": [
       "<Figure size 600x400 with 1 Axes>"
      ]
     },
     "metadata": {},
     "output_type": "display_data"
    }
   ],
   "source": [
    "plt.figure(figsize=(6, 4))\n",
    "plt.scatter(gaia_df['ra'], gaia_df['dec'], label='Catalog', c='blue')\n",
    "plt.title(\"Gaia Star Catalog Subset\")\n",
    "plt.xlabel(\"RA (deg)\")\n",
    "plt.ylabel(\"Dec (deg)\")\n",
    "plt.grid(True)\n",
    "plt.legend()\n",
    "plt.show()"
   ]
  },
  {
   "cell_type": "markdown",
   "id": "c70d348b",
   "metadata": {},
   "source": [
    "## ✅ Summary\n",
    "- Queried a filtered Gaia star list\n",
    "- Simulated star tracker observations with a known rotation\n",
    "- Recovered the spacecraft attitude using SVD (Wahba's problem)\n",
    "\n",
    "This method underpins many real-world spacecraft attitude determination systems."
   ]
  }
 ],
 "metadata": {
  "kernelspec": {
   "display_name": "Python 3 (ipykernel)",
   "language": "python",
   "name": "python3"
  },
  "language_info": {
   "codemirror_mode": {
    "name": "ipython",
    "version": 3
   },
   "file_extension": ".py",
   "mimetype": "text/x-python",
   "name": "python",
   "nbconvert_exporter": "python",
   "pygments_lexer": "ipython3",
   "version": "3.9.17"
  }
 },
 "nbformat": 4,
 "nbformat_minor": 5
}
