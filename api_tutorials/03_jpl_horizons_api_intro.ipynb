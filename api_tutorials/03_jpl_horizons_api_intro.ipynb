{
 "cells": [
  {
   "cell_type": "markdown",
   "id": "970cfb85",
   "metadata": {},
   "source": [
    "# 🚀 Introduction to the JPL Horizons API\n",
    "\n",
    "JPL Horizons allows us to query the position and velocity of solar system objects.\n",
    "We'll access it using the [`astroquery.jplhorizons`](https://astroquery.readthedocs.io/en/latest/jplhorizons/jplhorizons.html) module."
   ]
  },
  {
   "cell_type": "code",
   "execution_count": 1,
   "id": "e8a52391",
   "metadata": {},
   "outputs": [
    {
     "data": {
      "text/html": [
       "<div><i>Table length=25</i>\n",
       "<table id=\"table140397127220816\" class=\"table-striped table-bordered table-condensed\">\n",
       "<thead><tr><th>datetime_str</th><th>RA</th><th>DEC</th><th>delta</th><th>V</th></tr></thead>\n",
       "<thead><tr><th>---</th><th>deg</th><th>deg</th><th>AU</th><th>mag</th></tr></thead>\n",
       "<thead><tr><th>str17</th><th>float64</th><th>float64</th><th>float64</th><th>float64</th></tr></thead>\n",
       "<tr><td>2025-Jul-01 00:00</td><td>223.61919</td><td>-21.14641</td><td>1.33310241431498</td><td>21.465</td></tr>\n",
       "<tr><td>2025-Jul-01 01:00</td><td>223.64322</td><td>-21.15502</td><td>1.33315235815243</td><td>21.465</td></tr>\n",
       "<tr><td>2025-Jul-01 02:00</td><td>223.66725</td><td>-21.16362</td><td>1.33320224694537</td><td>21.465</td></tr>\n",
       "<tr><td>2025-Jul-01 03:00</td><td>223.69128</td><td>-21.17222</td><td>1.33325208068917</td><td>21.465</td></tr>\n",
       "<tr><td>2025-Jul-01 04:00</td><td>223.71531</td><td>-21.18082</td><td>1.33330185937922</td><td>21.465</td></tr>\n",
       "<tr><td>2025-Jul-01 05:00</td><td>223.73934</td><td>-21.18941</td><td>1.33335158301087</td><td>21.466</td></tr>\n",
       "<tr><td>...</td><td>...</td><td>...</td><td>...</td><td>...</td></tr>\n",
       "<tr><td>2025-Jul-01 19:00</td><td>224.0759</td><td>-21.30926</td><td>1.33404193015506</td><td>21.468</td></tr>\n",
       "<tr><td>2025-Jul-01 20:00</td><td>224.09994</td><td>-21.31779</td><td>1.33409082736159</td><td>21.468</td></tr>\n",
       "<tr><td>2025-Jul-01 21:00</td><td>224.12399</td><td>-21.32632</td><td>1.33413966943678</td><td>21.468</td></tr>\n",
       "<tr><td>2025-Jul-01 22:00</td><td>224.14804</td><td>-21.33484</td><td>1.33418845637612</td><td>21.468</td></tr>\n",
       "<tr><td>2025-Jul-01 23:00</td><td>224.17209</td><td>-21.34336</td><td>1.33423718817513</td><td>21.469</td></tr>\n",
       "<tr><td>2025-Jul-02 00:00</td><td>224.19614</td><td>-21.35187</td><td>1.3342858648293</td><td>21.469</td></tr>\n",
       "</table></div>"
      ],
      "text/plain": [
       "<Table length=25>\n",
       "   datetime_str       RA       DEC         delta          V   \n",
       "       ---           deg       deg           AU          mag  \n",
       "      str17        float64   float64      float64      float64\n",
       "----------------- --------- --------- ---------------- -------\n",
       "2025-Jul-01 00:00 223.61919 -21.14641 1.33310241431498  21.465\n",
       "2025-Jul-01 01:00 223.64322 -21.15502 1.33315235815243  21.465\n",
       "2025-Jul-01 02:00 223.66725 -21.16362 1.33320224694537  21.465\n",
       "2025-Jul-01 03:00 223.69128 -21.17222 1.33325208068917  21.465\n",
       "2025-Jul-01 04:00 223.71531 -21.18082 1.33330185937922  21.465\n",
       "2025-Jul-01 05:00 223.73934 -21.18941 1.33335158301087  21.466\n",
       "              ...       ...       ...              ...     ...\n",
       "2025-Jul-01 19:00  224.0759 -21.30926 1.33404193015506  21.468\n",
       "2025-Jul-01 20:00 224.09994 -21.31779 1.33409082736159  21.468\n",
       "2025-Jul-01 21:00 224.12399 -21.32632 1.33413966943678  21.468\n",
       "2025-Jul-01 22:00 224.14804 -21.33484 1.33418845637612  21.468\n",
       "2025-Jul-01 23:00 224.17209 -21.34336 1.33423718817513  21.469\n",
       "2025-Jul-02 00:00 224.19614 -21.35187  1.3342858648293  21.469"
      ]
     },
     "execution_count": 1,
     "metadata": {},
     "output_type": "execute_result"
    }
   ],
   "source": [
    "from astroquery.jplhorizons import Horizons\n",
    "\n",
    "# Example: Get ephemeris data for asteroid Bennu\n",
    "obj = Horizons(id='101955', location='500@10', epochs={'start':'2025-07-01', 'stop':'2025-07-02', 'step':'1h'})\n",
    "eph = obj.ephemerides()\n",
    "eph[['datetime_str', 'RA', 'DEC', 'delta', 'V']]"
   ]
  },
  {
   "cell_type": "code",
   "execution_count": null,
   "id": "fc9cc623",
   "metadata": {},
   "outputs": [],
   "source": []
  }
 ],
 "metadata": {
  "kernelspec": {
   "display_name": "Python 3 (ipykernel)",
   "language": "python",
   "name": "python3"
  },
  "language_info": {
   "codemirror_mode": {
    "name": "ipython",
    "version": 3
   },
   "file_extension": ".py",
   "mimetype": "text/x-python",
   "name": "python",
   "nbconvert_exporter": "python",
   "pygments_lexer": "ipython3",
   "version": "3.9.17"
  }
 },
 "nbformat": 4,
 "nbformat_minor": 5
}
