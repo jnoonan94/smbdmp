{
 "cells": [
  {
   "cell_type": "markdown",
   "id": "8139cf80",
   "metadata": {},
   "source": [
    "# 🔧 Using REST API Parameters\n",
    "\n",
    "Many APIs allow you to send **parameters** to customize your request. Let's use the Open-Meteo weather API to demonstrate this."
   ]
  },
  {
   "cell_type": "code",
   "execution_count": 3,
   "id": "02c446b6",
   "metadata": {},
   "outputs": [
    {
     "name": "stdout",
     "output_type": "stream",
     "text": [
      "{'time': '2025-06-27T17:15', 'interval': 900, 'temperature': 21.1, 'windspeed': 11.2, 'winddirection': 48, 'is_day': 1, 'weathercode': 3}\n"
     ]
    }
   ],
   "source": [
    "import requests\n",
    "\n",
    "params = {\n",
    "    'latitude': 38.89,     # Washington DC\n",
    "    'longitude': -77.03,\n",
    "    'current_weather': True\n",
    "}\n",
    "response = requests.get(\"https://api.open-meteo.com/v1/forecast\", params=params)\n",
    "weather = response.json()\n",
    "print(weather['current_weather'])"
   ]
  },
  {
   "cell_type": "code",
   "execution_count": null,
   "id": "4723d59a",
   "metadata": {},
   "outputs": [],
   "source": []
  }
 ],
 "metadata": {
  "kernelspec": {
   "display_name": "Python 3 (ipykernel)",
   "language": "python",
   "name": "python3"
  },
  "language_info": {
   "codemirror_mode": {
    "name": "ipython",
    "version": 3
   },
   "file_extension": ".py",
   "mimetype": "text/x-python",
   "name": "python",
   "nbconvert_exporter": "python",
   "pygments_lexer": "ipython3",
   "version": "3.9.17"
  }
 },
 "nbformat": 4,
 "nbformat_minor": 5
}
