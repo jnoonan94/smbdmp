{
 "cells": [
  {
   "cell_type": "markdown",
   "id": "93a64a33",
   "metadata": {},
   "source": [
    "# 🌐 Introduction to APIs in Python\n",
    "\n",
    "In this tutorial, you'll learn what APIs are and how to interact with them using Python. We'll use simple web APIs to get data and process it.\n",
    "\n",
    "We'll use:\n",
    "- `requests` to make HTTP calls\n",
    "- `json` to parse structured data\n",
    "\n",
    "Let's get started!"
   ]
  },
  {
   "cell_type": "code",
   "execution_count": 1,
   "id": "b440fd33",
   "metadata": {},
   "outputs": [
    {
     "name": "stdout",
     "output_type": "stream",
     "text": [
      "Random Cat Fact: A cat's normal temperature varies around 101 degrees Fahrenheit.\n"
     ]
    }
   ],
   "source": [
    "import requests\n",
    "import json\n",
    "\n",
    "# Example: Fetch a random cat fact\n",
    "url = 'https://catfact.ninja/fact'\n",
    "response = requests.get(url)\n",
    "data = response.json()\n",
    "print(f\"Random Cat Fact: {data['fact']}\")"
   ]
  },
  {
   "cell_type": "code",
   "execution_count": null,
   "id": "fd7cf5c5",
   "metadata": {},
   "outputs": [],
   "source": []
  }
 ],
 "metadata": {
  "kernelspec": {
   "display_name": "Python 3 (ipykernel)",
   "language": "python",
   "name": "python3"
  },
  "language_info": {
   "codemirror_mode": {
    "name": "ipython",
    "version": 3
   },
   "file_extension": ".py",
   "mimetype": "text/x-python",
   "name": "python",
   "nbconvert_exporter": "python",
   "pygments_lexer": "ipython3",
   "version": "3.9.17"
  }
 },
 "nbformat": 4,
 "nbformat_minor": 5
}
