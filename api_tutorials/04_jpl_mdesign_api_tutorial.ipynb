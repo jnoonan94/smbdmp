{
 "cells": [
  {
   "cell_type": "markdown",
   "id": "429a6116",
   "metadata": {},
   "source": [
    "# JPL Small-Body Mission Design API Tutorial\n",
    "\n",
    "This Jupyter Notebook introduces the use of the JPL Small-Body Mission Design API. It will demonstrate how to query small body data, extract trajectory information, and use this data for planning or analysis purposes."
   ]
  },
  {
   "cell_type": "code",
   "execution_count": null,
   "id": "cde49ab0",
   "metadata": {},
   "outputs": [],
   "source": [
    "# Section 1: Import Required Libraries\n",
    "import requests\n",
    "import pandas as pd\n",
    "import matplotlib.pyplot as plt\n",
    "from pprint import pprint"
   ]
  },
  {
   "cell_type": "code",
   "execution_count": null,
   "id": "2e9d1adc",
   "metadata": {},
   "outputs": [],
   "source": [
    "# Section 2: API Overview and Base URL\n",
    "base_url = \"https://ssd-api.jpl.nasa.gov/mdesign.api\""
   ]
  },
  {
   "cell_type": "code",
   "execution_count": null,
   "id": "0c2c6dd0",
   "metadata": {},
   "outputs": [],
   "source": [
    "# Section 3: Define a helper function to pretty-print JSON responses\n",
    "def query_api(params):\n",
    "    response = requests.get(base_url, params=params)\n",
    "    response.raise_for_status()\n",
    "    return response.json()"
   ]
  },
  {
   "cell_type": "code",
   "execution_count": null,
   "id": "c17fb329",
   "metadata": {},
   "outputs": [],
   "source": [
    "# Section 4: List All Available Small-Body Targets\n",
    "print(\"\\nListing available small-body targets:\")\n",
    "params = {\"targets\": \"list\"}\n",
    "data = query_api(params)\n",
    "print(f\"Available target count: {len(data['data'])}\")\n",
    "pprint(data['data'][:5])  # Print first five targets"
   ]
  },
  {
   "cell_type": "code",
   "execution_count": null,
   "id": "5b1231f4",
   "metadata": {},
   "outputs": [],
   "source": [
    "# Section 5: Query Mission Design Data for a Specific Target (e.g., 1P/Halley)\n",
    "target = \"1P\"\n",
    "print(f\"\\nQuerying mission design data for target: {target}\")\n",
    "params = {\n",
    "    \"target\": target,\n",
    "    \"traj\": \"yes\",  # include trajectory info\n",
    "    \"launch\": \"2025-01-01\",\n",
    "    \"tof-min\": 180,    # minimum time-of-flight (days)\n",
    "    \"tof-max\": 1000,   # maximum time-of-flight (days)\n",
    "    \"vinf-max\": 10     # maximum launch C3 (km/s)\n",
    "}\n",
    "\n",
    "result = query_api(params)\n",
    "pprint(result['summary'])"
   ]
  },
  {
   "cell_type": "code",
   "execution_count": null,
   "id": "5f0d122e",
   "metadata": {},
   "outputs": [],
   "source": [
    "# Section 6: Extract and Display Trajectory Data\n",
    "traj_data = result.get('traj', [])\n",
    "if traj_data:\n",
    "    print(f\"\\nNumber of trajectory options found: {len(traj_data)}\")\n",
    "    df = pd.DataFrame(traj_data)\n",
    "    display(df.head())\n",
    "    \n",
    "    # Plotting example: Earth departure vs arrival V-infinity\n",
    "    plt.figure(figsize=(10, 6))\n",
    "    plt.scatter(df['vinf_dep'], df['vinf_arr'], alpha=0.7, c=df['tof'], cmap='viridis')\n",
    "    plt.colorbar(label='Time of Flight (days)')\n",
    "    plt.xlabel(\"Departure V-infinity (km/s)\")\n",
    "    plt.ylabel(\"Arrival V-infinity (km/s)\")\n",
    "    plt.title(f\"Mission Design Options to {target}\")\n",
    "    plt.grid(True)\n",
    "    plt.show()\n",
    "else:\n",
    "    print(\"No trajectory data returned.\")"
   ]
  },
  {
   "cell_type": "code",
   "execution_count": null,
   "id": "d0926647",
   "metadata": {},
   "outputs": [],
   "source": [
    "# Section 7: Optional – Save Results to CSV\n",
    "# df.to_csv(f\"mission_design_{target}.csv\", index=False)"
   ]
  },
  {
   "cell_type": "code",
   "execution_count": null,
   "id": "8b3e65a2",
   "metadata": {},
   "outputs": [],
   "source": [
    "# Section 8: Additional Exploration\n",
    "# Try changing `target` to other comet/asteroid designations like \"C/2023 A3\", \"3200\", etc.\n",
    "# Adjust launch window, TOF, or V-infinity limits"
   ]
  },
  {
   "cell_type": "markdown",
   "id": "860b52b8",
   "metadata": {},
   "source": [
    "_End of notebook_"
   ]
  }
 ],
 "metadata": {},
 "nbformat": 4,
 "nbformat_minor": 5
}
